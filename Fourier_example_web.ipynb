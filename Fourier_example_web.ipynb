{
  "nbformat": 4,
  "nbformat_minor": 0,
  "metadata": {
    "colab": {
      "provenance": [],
      "collapsed_sections": [],
      "authorship_tag": "ABX9TyO+dTAmb7YcfLwHAvQdKMBQ",
      "include_colab_link": true
    },
    "kernelspec": {
      "name": "python3",
      "display_name": "Python 3"
    },
    "language_info": {
      "name": "python"
    }
  },
  "cells": [
    {
      "cell_type": "markdown",
      "metadata": {
        "id": "view-in-github",
        "colab_type": "text"
      },
      "source": [
        "<a href=\"https://colab.research.google.com/github/Bjoyita/FourierTransform_Images/blob/main/Fourier_example_web.ipynb\" target=\"_parent\"><img src=\"https://colab.research.google.com/assets/colab-badge.svg\" alt=\"Open In Colab\"/></a>"
      ]
    },
    {
      "cell_type": "markdown",
      "source": [
        "**Importing libraries**"
      ],
      "metadata": {
        "id": "7_DqFb3fDy9g"
      }
    },
    {
      "cell_type": "code",
      "execution_count": null,
      "metadata": {
        "id": "f0TQyYyvYIVL"
      },
      "outputs": [],
      "source": [
        "import numpy as np\n",
        "import matplotlib.pyplot as plt\n",
        "from skimage import io, color\n",
        "from skimage.filters import difference_of_gaussians, window\n",
        "from scipy.fft import fftn, fftshift\n",
        "import math\n"
      ]
    },
    {
      "cell_type": "markdown",
      "source": [
        "**Function and Image**"
      ],
      "metadata": {
        "id": "4Tn91hW2DmC7"
      }
    },
    {
      "cell_type": "code",
      "source": [
        "x= np.linspace(0, 6*np.pi, 50)\n",
        "y= np.linspace(0, 6*np.pi, 50)"
      ],
      "metadata": {
        "id": "ApMwgbKQYP3o"
      },
      "execution_count": null,
      "outputs": []
    },
    {
      "cell_type": "code",
      "source": [
        "X,Y = np.meshgrid(x,y)\n",
        "f = np.ones([50, 50])\n",
        "f = np.sin(4*np.pi*X) + np.cos(6*np.pi*Y)"
      ],
      "metadata": {
        "id": "4jH1AXLEYnzI"
      },
      "execution_count": null,
      "outputs": []
    },
    {
      "cell_type": "code",
      "source": [
        "f.shape"
      ],
      "metadata": {
        "colab": {
          "base_uri": "https://localhost:8080/"
        },
        "id": "TirzWpMnZoNp",
        "outputId": "5349fd42-e4d0-43b7-803f-ca260cfe494d"
      },
      "execution_count": null,
      "outputs": [
        {
          "output_type": "execute_result",
          "data": {
            "text/plain": [
              "(50, 50)"
            ]
          },
          "metadata": {},
          "execution_count": 4
        }
      ]
    },
    {
      "cell_type": "code",
      "source": [
        "plt.imshow(f)"
      ],
      "metadata": {
        "colab": {
          "base_uri": "https://localhost:8080/",
          "height": 285
        },
        "id": "qQPd5eIkB9A0",
        "outputId": "c6024112-bab7-4e10-d8fa-3a20b966ceb3"
      },
      "execution_count": null,
      "outputs": [
        {
          "output_type": "execute_result",
          "data": {
            "text/plain": [
              "<matplotlib.image.AxesImage at 0x7f1d57a68110>"
            ]
          },
          "metadata": {},
          "execution_count": 5
        },
        {
          "output_type": "display_data",
          "data": {
            "text/plain": [
              "<Figure size 432x288 with 1 Axes>"
            ],
            "image/png": "[encoded data removed]"
          },
          "metadata": {
            "needs_background": "light"
          }
        }
      ]
    },
    {
      "cell_type": "markdown",
      "source": [
        "**Fourier transform**"
      ],
      "metadata": {
        "id": "c2rxLi_3DYAb"
      }
    },
    {
      "cell_type": "code",
      "source": [
        "f_f = np.fft.fft2(f)\n",
        "f_f001=plt.imshow(abs(f_f), cmap ='gray')\n",
        "plt.colorbar(f_f001)\n",
        "plt.show()"
      ],
      "metadata": {
        "colab": {
          "base_uri": "https://localhost:8080/",
          "height": 267
        },
        "id": "7v-Z6ui9Z2iV",
        "outputId": "e7a2a182-885a-4e03-98e8-a59d72e3ec2d"
      },
      "execution_count": null,
      "outputs": [
        {
          "output_type": "display_data",
          "data": {
            "text/plain": [
              "<Figure size 432x288 with 2 Axes>"
            ],
            "image/png": "[encoded data removed]"
          },
          "metadata": {
            "needs_background": "light"
          }
        }
      ]
    },
    {
      "cell_type": "markdown",
      "source": [
        "**Origin centering**"
      ],
      "metadata": {
        "id": "GZvjW2XuDck2"
      }
    },
    {
      "cell_type": "code",
      "source": [
        "f_f_shift = np.fft.fftshift(f_f)\n",
        "f_shift=plt.imshow(abs(f_f_shift), cmap ='gray')\n",
        "plt.colorbar()\n",
        "plt.show()"
      ],
      "metadata": {
        "colab": {
          "base_uri": "https://localhost:8080/",
          "height": 267
        },
        "id": "Q47BXwnOhJLk",
        "outputId": "28d81e7d-92cf-43c4-fbe4-22c4802887db"
      },
      "execution_count": null,
      "outputs": [
        {
          "output_type": "display_data",
          "data": {
            "text/plain": [
              "<Figure size 432x288 with 2 Axes>"
            ],
            "image/png": "[encoded data removed]"
          },
          "metadata": {
            "needs_background": "light"
          }
        }
      ]
    },
    {
      "cell_type": "markdown",
      "source": [
        "**Inverse Fourier Transform**"
      ],
      "metadata": {
        "id": "sMtQUT-MDQMH"
      }
    },
    {
      "cell_type": "code",
      "source": [
        "originalImage = np.fft.ifft2(f_f_shift)"
      ],
      "metadata": {
        "id": "NhfZvKEAABkH"
      },
      "execution_count": null,
      "outputs": []
    },
    {
      "cell_type": "code",
      "source": [
        "plt.imshow(abs(originalImage))"
      ],
      "metadata": {
        "colab": {
          "base_uri": "https://localhost:8080/",
          "height": 285
        },
        "id": "EZQoCKuXDKiU",
        "outputId": "d0a9469a-6f47-4692-9447-86b8df00e689"
      },
      "execution_count": null,
      "outputs": [
        {
          "output_type": "execute_result",
          "data": {
            "text/plain": [
              "<matplotlib.image.AxesImage at 0x7f4818649810>"
            ]
          },
          "metadata": {},
          "execution_count": 38
        },
        {
          "output_type": "display_data",
          "data": {
            "text/plain": [
              "<Figure size 432x288 with 1 Axes>"
            ],
            "image/png": "[encoded data removed]"
          },
          "metadata": {
            "needs_background": "light"
          }
        }
      ]
    }
  ]
}